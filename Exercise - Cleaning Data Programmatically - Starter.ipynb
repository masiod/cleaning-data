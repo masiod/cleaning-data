{
 "cells": [
  {
   "cell_type": "markdown",
   "id": "19cec796",
   "metadata": {},
   "source": [
    "# Cleaning Data Programmatically\n",
    "\n",
    "In this exercise, you will perform programtic cleaning of U.S. Bureau of Labor Statistics' \"Occupational Employment and Wage Statistics (OEWS) Research Estimates by State and Industry\". This dataset contains data on manager role occupations and the hourly wage. \n",
    "\n",
    "You will be cleaning the data for both data tidiness and data quality issues.\n",
    "\n",
    "As a supplementary dataset, you are provided with an additional dataset, the 2021 1-year ACS PUMS dataset, to validate the data quality issues against."
   ]
  },
  {
   "cell_type": "code",
   "execution_count": null,
   "id": "56da56f0",
   "metadata": {},
   "outputs": [],
   "source": [
    "#DO NOT MODIFY - imports\n",
    "import pandas as pd\n",
    "import numpy as np"
   ]
  },
  {
   "cell_type": "markdown",
   "id": "84427353",
   "metadata": {},
   "source": [
    "## Datasets context\n",
    "\n",
    "### OEWS data (uncleaned)\n",
    "\n",
    "The OEWS dataset was gathered manually as a CSV from the U.S. Bureau of Labor Statistics' website. The data was narrowed down to specifically focus on the managerial domain.\n",
    "\n",
    "The dataset has a number of variables - there are four variables of significance to us:\n",
    "\n",
    "- AREA_TITLE: Area/location name, e.g. Alabama\n",
    "- OCC_CODE: The Standard Occupational Classification (SOC) code, e.g. 11-0000\n",
    "- OCC_TITLE: The Standard Occupational Classification (SOC) title, e.g. Management Occupations\n",
    "- H_MEAN: The mean hourly wage of the worker, e.g. 61.13\n",
    "\n",
    "**Legend**:\n",
    "- `*` indicates that a wage estimate is not available\n",
    "- `**` indicates an employement estimate is not available\n",
    "- `#` indicates that a wage is equal to or greater than 100 dollars per hour or greater than 280,000 dollars per year\n",
    "- `~` indicates a percent total less than 0.05%\n",
    "\n",
    "### PUMS data (cleaned)\n",
    "\n",
    "The PUMS dataset was downloaded via the Census Data API from the United Statest Census Bureau, and narrowed down for the Kern County - Bakersfield MSA, California area.\n",
    "\n",
    "Dataset variables:\n",
    "\n",
    "- WRK: Whether the individual worked last week.\n",
    "    - 0: N/A (not reported)\n",
    "    - 1: Worked\n",
    "    - 2: Did not work\n",
    "- SEX: Sex (Male / Female) of the individual\n",
    "    - 1: Male\n",
    "    - 2: Female \n",
    "- SCOP: Standard Occupational Classification (SOC) codes for 2018 and later, based on the 2018 SOC codes"
   ]
  },
  {
   "cell_type": "code",
   "execution_count": null,
   "id": "0b300216",
   "metadata": {},
   "outputs": [],
   "source": [
    "#DO NOT MODIFY\n",
    "#Read in the uncleaned excel file (note: will take a few minutes to load)\n",
    "oews_data = pd.read_excel('oes_research_2021_sec_55-56.xlsx')\n",
    "#Show the first few rows\n",
    "oews_data.head()"
   ]
  },
  {
   "cell_type": "code",
   "execution_count": null,
   "id": "8fe64ea8",
   "metadata": {},
   "outputs": [],
   "source": [
    "#DO NOT MODIFY\n",
    "#Read the cleaned .json file\n",
    "cleaned_pums = pd.read_csv('cleaned_pums_2021.csv')\n",
    "#Show the first few rows\n",
    "cleaned_pums.head()"
   ]
  },
  {
   "cell_type": "markdown",
   "id": "d71435e7",
   "metadata": {},
   "source": [
    "## 1. Clean the Data Tidiness issues"
   ]
  },
  {
   "cell_type": "markdown",
   "id": "88758c10",
   "metadata": {},
   "source": [
    "### 1.1 Make a copy of the data\n",
    "\n",
    "In order to ensure the raw dataframe is not impacted, make a copy of the OEWS data using the `df.copy()` functionality."
   ]
  },
  {
   "cell_type": "code",
   "execution_count": null,
   "id": "c4c7923e",
   "metadata": {},
   "outputs": [],
   "source": [
    "#FILL IN - make a copy of the OEWS data\n",
    "cleaned_wage = ..."
   ]
  },
  {
   "cell_type": "markdown",
   "id": "c6a0d4be",
   "metadata": {},
   "source": [
    "### 1.2 Clean the tidiness issue\n",
    "\n",
    "For the Data Tidiness issue, let's look at the structure of the dataset using a combination of visual and programmatic assignment. \n",
    "\n",
    "From the OEWS wage data, we would like to keep the:\n",
    "\n",
    "- `Area_Title`\n",
    "- `OCC_CODE`\n",
    "- `OCC_TITLE`\n",
    "- `H_MEAN`\n",
    "\n",
    "For `Area_Title`, keep only the data for **California**."
   ]
  },
  {
   "cell_type": "code",
   "execution_count": null,
   "id": "cf99e3ea",
   "metadata": {},
   "outputs": [],
   "source": [
    "#FILL IN\n",
    "#1. Filter the dataframe to the specific data elements\n",
    "\n",
    "#2. Subset the dataframe for the Area_Title to only apply to California\n",
    "\n",
    "#3. Describe the data\n"
   ]
  },
  {
   "cell_type": "markdown",
   "id": "e485d1f3",
   "metadata": {},
   "source": [
    "### 1.3 Perform visual inspection of the dataset\n",
    "Perform visual inspection of the dataset via the `.head()` function, particularly the dataframe's index, which is no longer in order. \n",
    "\n",
    "Reset the dataframe's index to fix this structural issue with the dataset - use the `reset_index()` with `drop` set to `True`."
   ]
  },
  {
   "cell_type": "code",
   "execution_count": null,
   "id": "3077e9f2",
   "metadata": {},
   "outputs": [],
   "source": [
    "# FILL IN - inspect the dataset"
   ]
  },
  {
   "cell_type": "code",
   "execution_count": null,
   "id": "35433372",
   "metadata": {},
   "outputs": [],
   "source": [
    "# FILL IN\n",
    "# Reset the dataframe's index\n",
    "\n",
    "# Inspect the dataset again to confirm it worked\n"
   ]
  },
  {
   "cell_type": "markdown",
   "id": "e2c189fa",
   "metadata": {},
   "source": [
    "## 2. Clean the Data Quality issues"
   ]
  },
  {
   "cell_type": "markdown",
   "id": "9d49799a",
   "metadata": {},
   "source": [
    "### 2.1 Completeness\n",
    "There are many missing values and outliers in the wages data in the OEWS dataset, causing `H_MEAN` datatype to be object, instead of float.\n",
    "\n",
    "- `*` indicates that a wage estimate is not available\n",
    "- `#` indicates that a wage is equal to or greater than 100 dollars per hour or greater than 280,000 dollars per year\n",
    "\n",
    "In this step, we will clean thess invalid values.\n",
    "\n",
    "#### 2.1.1 Inspect the data types"
   ]
  },
  {
   "cell_type": "code",
   "execution_count": null,
   "id": "3b3d33da",
   "metadata": {},
   "outputs": [],
   "source": [
    "#DO NOT MODIFY\n",
    "#Briefly inspect the dtypes in the data\n",
    "cleaned_wage.dtypes"
   ]
  },
  {
   "cell_type": "markdown",
   "id": "02eef35d",
   "metadata": {},
   "source": [
    "#### 2.1.2 Clean missing values and outliers\n",
    "The invalid `*`  and `#` values cause `H_MEAN` datatype to be object, instead of float.\n",
    "\n",
    "Let's remove the invalid data entries. First replace the missing values `*` and outliers `#` in `H_MEAN` with the `np.nan`. Then drop the NA values with the `dropna()` function. Finally, assert the number of NA values is 0."
   ]
  },
  {
   "cell_type": "code",
   "execution_count": null,
   "id": "aef72c13",
   "metadata": {},
   "outputs": [],
   "source": [
    "#FILL IN\n",
    "\n",
    "#1. Replace the * sign with np.nan for the H_MEAN data\n",
    "cleaned_wage['H_MEAN'] = ...\n",
    "\n",
    "#2. Deal with the outliers in the dataset\n",
    "\n",
    "#3. Drop the NA values\n",
    "\n",
    "#4. Assert the number of NA values is 0\n",
    "assert ..."
   ]
  },
  {
   "cell_type": "markdown",
   "id": "4528941b",
   "metadata": {},
   "source": [
    "#### 2.1.3 Inspect the cleaned data\n",
    "\n",
    "After dropping the NAs, check the datatypes for the OEWS data variables programmatically via assert functions. `AREA_TITLE`, `OCC_CODE`, and `OCC_TITLE` should be of the `object` data type, and `H_MEAN` of the `float64` data type. "
   ]
  },
  {
   "cell_type": "code",
   "execution_count": null,
   "id": "f7c1dfc4",
   "metadata": {},
   "outputs": [],
   "source": [
    "#FILL IN\n",
    "assert ..."
   ]
  },
  {
   "cell_type": "markdown",
   "id": "5112e2ee",
   "metadata": {},
   "source": [
    "## 2.2 Consistency\n",
    "\n",
    "\n",
    "There is an apparant lack of consistency between the OEWS and PUMS datasets with the occupation code variables, `SOCP` and `OCC_CODE`. The `OCC_CODE` variable in the OEWS dataset has hyphens as part of the code, whereas the PUMS' `SOCP` variable doesn't have this. In this step, we will address this issue."
   ]
  },
  {
   "cell_type": "markdown",
   "id": "bf94f189",
   "metadata": {},
   "source": [
    "#### 2.2.1 Add a OCC_CODE column to PUMS data\n",
    "\n",
    "Create a new column within the PUMS dataframe called `OCC_CODE` that is a copy of the `SOCP` variable in the PUMS dataset. We'll be keeping the original `SOCP` column intact for potential cross-referencing."
   ]
  },
  {
   "cell_type": "code",
   "execution_count": null,
   "id": "1a2cf31c",
   "metadata": {},
   "outputs": [],
   "source": [
    "#FILL IN\n",
    "cleaned_pums['OCC_CODE'] =..."
   ]
  },
  {
   "cell_type": "markdown",
   "id": "32e36517",
   "metadata": {},
   "source": [
    "#### 2.2.2 Clean the OCC_CODE in OEWS data\n",
    "\n",
    "The `OCC_CODE` variable in the OEWS dataset has hyphens as part of the code, whereas the PUMS' `SOCP` variable doesn't have this. Modify the `OCC_CODE` variable within the `cleaned_wage` dataframe to remove the hyphen."
   ]
  },
  {
   "cell_type": "code",
   "execution_count": null,
   "id": "303ad7c4",
   "metadata": {},
   "outputs": [],
   "source": [
    "#FILL IN - enforce consistency between OCC_Code values between dataframes\n",
    "#by replacing the hyphen in the OCC_Code variable\n"
   ]
  },
  {
   "cell_type": "markdown",
   "id": "9b2536ba",
   "metadata": {},
   "source": [
    "#### 2.2.3 Combine datasets \n",
    "\n",
    "We've cleaned the OEWS data. Now we can merge the `cleaned_pums` and `cleaned_wage` dataframes.\n",
    "\n",
    "Drop the NA values and the unnecessary columns `Area_Title` which reports California for all values in the dataset. Drop the redundant `SOCP` variable. Finally reset the index after dropping the NA values.\n",
    "\n",
    "*Note:* Here, we choose not to remove duplicate values - in the context of this problem statement, we value the individual counts to show the number of individuals in the sample belonging to a certain occupation (`OCC_TITLE`) / gender (`SEX`)."
   ]
  },
  {
   "cell_type": "code",
   "execution_count": null,
   "id": "ba395cc0",
   "metadata": {},
   "outputs": [],
   "source": [
    "#DO NOT MODIFY\n",
    "#Merge the two dataframes using only keys from the right frame\n",
    "merged_df = pd.merge(cleaned_pums, cleaned_wage, on=['OCC_CODE'], how='right')\n",
    "merged_df.head()"
   ]
  },
  {
   "cell_type": "code",
   "execution_count": null,
   "id": "3f35db47",
   "metadata": {},
   "outputs": [],
   "source": [
    "#FILL IN\n",
    "#Drop NA\n",
    "\n",
    "#Drop the unnecessary columns `AREA_TITLE`, `SOCP`\n",
    "\n",
    "#Reset the index with drop=True setting\n",
    "\n",
    "merged_df.head()"
   ]
  },
  {
   "cell_type": "markdown",
   "id": "bbbbb3b2",
   "metadata": {},
   "source": [
    "Now our final dataset contains information about occupational codes, titles, and the associated hourly wage of inviduals working in California in these postions, originating from the OEWS dataset. \n",
    "\n",
    "We also have the related gender of individuals working in these positions and whether or not they lasted last week coming in from the PUMS dataset, and we're ready for further analysis.\n",
    "\n",
    "## 3. Store your data\n",
    "Save your cleaned data to a csv, following best practices for storing and naming your cleaned data."
   ]
  },
  {
   "cell_type": "code",
   "execution_count": null,
   "id": "11ca2da8",
   "metadata": {},
   "outputs": [],
   "source": [
    "#FILL IN\n",
    "merged_df.to_csv(...)"
   ]
  }
 ],
 "metadata": {
  "kernelspec": {
   "display_name": "Python 3 (ipykernel)",
   "language": "python",
   "name": "python3"
  },
  "language_info": {
   "codemirror_mode": {
    "name": "ipython",
    "version": 3
   },
   "file_extension": ".py",
   "mimetype": "text/x-python",
   "name": "python",
   "nbconvert_exporter": "python",
   "pygments_lexer": "ipython3",
   "version": "3.11.5"
  }
 },
 "nbformat": 4,
 "nbformat_minor": 5
}
